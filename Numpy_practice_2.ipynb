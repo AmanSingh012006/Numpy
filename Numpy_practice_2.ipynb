{
 "cells": [
  {
   "cell_type": "code",
   "execution_count": 4,
   "id": "fa04fef0-ba09-4dad-a561-6e821d681b03",
   "metadata": {},
   "outputs": [],
   "source": [
    "import numpy as np "
   ]
  },
  {
   "cell_type": "markdown",
   "id": "2466d2d1-131c-4a09-9cf1-b4a7da050a43",
   "metadata": {},
   "source": [
    "# Numpy array vs Python lists"
   ]
  },
  {
   "cell_type": "markdown",
   "id": "b0fad24a-3496-4fd9-9db7-efbf60b8cef8",
   "metadata": {},
   "source": [
    "1) **Speed**"
   ]
  },
  {
   "cell_type": "code",
   "execution_count": 1,
   "id": "d96223af-f9d0-406d-b26e-a25735d5dd9d",
   "metadata": {},
   "outputs": [
    {
     "name": "stdout",
     "output_type": "stream",
     "text": [
      "1.574007272720337\n"
     ]
    }
   ],
   "source": [
    "a= [i for i in range(10000000)]\n",
    "b = [i for i in range(10000000,20000000)]\n",
    "c = []\n",
    "import time \n",
    "start = time.time()\n",
    "for i in range(len(a)):\n",
    "    c.append(a[i] + b[i])\n",
    "print(time.time()-start)"
   ]
  },
  {
   "cell_type": "code",
   "execution_count": 5,
   "id": "64dad34e-6066-4c30-af2e-e8392837a25d",
   "metadata": {},
   "outputs": [
    {
     "name": "stdout",
     "output_type": "stream",
     "text": [
      "0.09583783149719238\n"
     ]
    }
   ],
   "source": [
    "# In numpy \n",
    "a= np.arange(10000000)\n",
    "b= np.arange(10000000,20000000)\n",
    "start = time.time()\n",
    "c= a+b\n",
    "print(time.time()-start)"
   ]
  },
  {
   "cell_type": "code",
   "execution_count": 10,
   "id": "b9461787-5e78-43ae-8d90-d86599889b32",
   "metadata": {},
   "outputs": [
    {
     "data": {
      "text/plain": [
       "16.423652832404166"
      ]
     },
     "execution_count": 10,
     "metadata": {},
     "output_type": "execute_result"
    }
   ],
   "source": [
    "1.574007272720337/0.09583783149719238"
   ]
  },
  {
   "cell_type": "markdown",
   "id": "2a6d862c-98b8-4b51-b2ab-3edc623e6eef",
   "metadata": {},
   "source": [
    "2) **Memory**"
   ]
  },
  {
   "cell_type": "code",
   "execution_count": 12,
   "id": "6144747f-38e7-40b5-98c7-ec63ecaf9c4a",
   "metadata": {},
   "outputs": [
    {
     "data": {
      "text/plain": [
       "89095160"
      ]
     },
     "execution_count": 12,
     "metadata": {},
     "output_type": "execute_result"
    }
   ],
   "source": [
    "a= [i for i in range(10000000)]\n",
    "import sys # \n",
    "sys.getsizeof(a)"
   ]
  },
  {
   "cell_type": "code",
   "execution_count": 14,
   "id": "4cbd5087-56da-49d5-a746-195375a37866",
   "metadata": {},
   "outputs": [
    {
     "data": {
      "text/plain": [
       "40000112"
      ]
     },
     "execution_count": 14,
     "metadata": {},
     "output_type": "execute_result"
    }
   ],
   "source": [
    "a = np.arange(10000000)\n",
    "sys.getsizeof(a)"
   ]
  },
  {
   "cell_type": "markdown",
   "id": "00263e85-a032-4526-9fef-2c6c9f1ba648",
   "metadata": {},
   "source": [
    "# Advance Indexing "
   ]
  },
  {
   "cell_type": "code",
   "execution_count": 16,
   "id": "8040b712-8054-49e7-950e-61ceafc92b87",
   "metadata": {},
   "outputs": [
    {
     "data": {
      "text/plain": [
       "array([[ 0,  1,  2,  3],\n",
       "       [ 4,  5,  6,  7],\n",
       "       [ 8,  9, 10, 11],\n",
       "       [12, 13, 14, 15],\n",
       "       [16, 17, 18, 19],\n",
       "       [20, 21, 22, 23]])"
      ]
     },
     "execution_count": 16,
     "metadata": {},
     "output_type": "execute_result"
    }
   ],
   "source": [
    "# Normal Indexing and slicing \n",
    "a= np.arange(24).reshape(6,4)\n",
    "a "
   ]
  },
  {
   "cell_type": "code",
   "execution_count": 18,
   "id": "493e3c8f-3fc0-42a4-9c7d-92b25e6afbd6",
   "metadata": {},
   "outputs": [
    {
     "data": {
      "text/plain": [
       "6"
      ]
     },
     "execution_count": 18,
     "metadata": {},
     "output_type": "execute_result"
    }
   ],
   "source": [
    "a[1,2]"
   ]
  },
  {
   "cell_type": "code",
   "execution_count": 20,
   "id": "d8426e11-be39-44a2-855c-55fbc7ebcd09",
   "metadata": {},
   "outputs": [
    {
     "data": {
      "text/plain": [
       "array([[5, 6]])"
      ]
     },
     "execution_count": 20,
     "metadata": {},
     "output_type": "execute_result"
    }
   ],
   "source": [
    "a[1:2,1:3]"
   ]
  },
  {
   "cell_type": "markdown",
   "id": "74561818-00b9-4e7a-a99e-e9626a5ff7d0",
   "metadata": {},
   "source": [
    "Fancy Indexing "
   ]
  },
  {
   "cell_type": "code",
   "execution_count": 22,
   "id": "4dffc8aa-6efb-4925-8965-7ab594a94a94",
   "metadata": {},
   "outputs": [
    {
     "data": {
      "text/plain": [
       "array([[ 0,  1,  2,  3],\n",
       "       [ 4,  5,  6,  7],\n",
       "       [ 8,  9, 10, 11],\n",
       "       [12, 13, 14, 15],\n",
       "       [16, 17, 18, 19],\n",
       "       [20, 21, 22, 23]])"
      ]
     },
     "execution_count": 22,
     "metadata": {},
     "output_type": "execute_result"
    }
   ],
   "source": [
    "a"
   ]
  },
  {
   "cell_type": "code",
   "execution_count": 110,
   "id": "b40d0329-7409-46d6-9539-3cb4c090dd99",
   "metadata": {},
   "outputs": [
    {
     "data": {
      "text/plain": [
       "array([[ 0,  1,  2,  3],\n",
       "       [ 8,  9, 10, 11],\n",
       "       [12, 13, 14, 15]])"
      ]
     },
     "execution_count": 110,
     "metadata": {},
     "output_type": "execute_result"
    }
   ],
   "source": [
    "# First , Second, Forth Row needs \n",
    "a[[0,2,3]] "
   ]
  },
  {
   "cell_type": "code",
   "execution_count": 114,
   "id": "e17c462e-ab76-437c-8d5e-af2a2bdc80c1",
   "metadata": {},
   "outputs": [
    {
     "data": {
      "text/plain": [
       "array([[ 0,  1,  2,  3],\n",
       "       [ 8,  9, 10, 11],\n",
       "       [12, 13, 14, 15],\n",
       "       [20, 21, 22, 23]])"
      ]
     },
     "execution_count": 114,
     "metadata": {},
     "output_type": "execute_result"
    }
   ],
   "source": [
    "# Frist , thrid , forth sixth rows \n",
    "a[[0,2,3,5]]"
   ]
  },
  {
   "cell_type": "code",
   "execution_count": 116,
   "id": "da0659d9-8c52-4243-b872-cbc005604852",
   "metadata": {},
   "outputs": [
    {
     "data": {
      "text/plain": [
       "array([[ 0,  2,  3],\n",
       "       [ 4,  6,  7],\n",
       "       [ 8, 10, 11],\n",
       "       [12, 14, 15],\n",
       "       [16, 18, 19],\n",
       "       [20, 22, 23]])"
      ]
     },
     "execution_count": 116,
     "metadata": {},
     "output_type": "execute_result"
    }
   ],
   "source": [
    "# first, third , forth column need \n",
    "a[:,[0,2,3]]"
   ]
  },
  {
   "cell_type": "markdown",
   "id": "cdb4e87b-2d57-4d15-bd32-e8b872cec7f8",
   "metadata": {},
   "source": [
    "Boolean Indexing"
   ]
  },
  {
   "cell_type": "code",
   "execution_count": 120,
   "id": "77c1240a-df09-4259-a937-9ac93edef51b",
   "metadata": {},
   "outputs": [],
   "source": [
    "# Kabi condition ke hisab se number nikalne honge eg: i<5, odd elements , etc "
   ]
  },
  {
   "cell_type": "code",
   "execution_count": 128,
   "id": "6c41a210-6d41-4d13-800d-493b8b1f5f84",
   "metadata": {},
   "outputs": [
    {
     "data": {
      "text/plain": [
       "array([[83, 86, 75, 34],\n",
       "       [68, 34, 43, 56],\n",
       "       [80,  8,  1, 17],\n",
       "       [10, 15, 27, 81],\n",
       "       [26, 27, 35, 25],\n",
       "       [74, 83,  1, 88]])"
      ]
     },
     "execution_count": 128,
     "metadata": {},
     "output_type": "execute_result"
    }
   ],
   "source": [
    "# Do number ke beech random value generate \n",
    "a = np.random.randint(1,100,24).reshape(6,4)\n",
    "a"
   ]
  },
  {
   "cell_type": "code",
   "execution_count": 24,
   "id": "45eca952-bb7d-48ee-b529-b571b194b2ec",
   "metadata": {},
   "outputs": [
    {
     "data": {
      "text/plain": [
       "array([], dtype=int32)"
      ]
     },
     "execution_count": 24,
     "metadata": {},
     "output_type": "execute_result"
    }
   ],
   "source": [
    "# condition - find all number greater than 50 \n",
    "a > 50 \n",
    "a[a>50]"
   ]
  },
  {
   "cell_type": "code",
   "execution_count": 136,
   "id": "f228df21-703c-4ed5-97db-b63150a0e846",
   "metadata": {},
   "outputs": [
    {
     "data": {
      "text/plain": [
       "array([86, 34, 68, 34, 56, 80,  8, 10, 26, 74, 88])"
      ]
     },
     "execution_count": 136,
     "metadata": {},
     "output_type": "execute_result"
    }
   ],
   "source": [
    "# condition - find out numbers \n",
    "a % 2 == 0\n",
    "a[a % 2 ==0 ]"
   ]
  },
  {
   "cell_type": "code",
   "execution_count": 142,
   "id": "e5940a87-1413-4a5c-bb8b-df9f3e2bec6d",
   "metadata": {},
   "outputs": [
    {
     "data": {
      "text/plain": [
       "array([86, 68, 56, 80, 74, 88])"
      ]
     },
     "execution_count": 142,
     "metadata": {},
     "output_type": "execute_result"
    }
   ],
   "source": [
    "# condition - find all numbers greater than 50 and are even \n",
    "(a>50) & (a%2==0)\n",
    "a[(a>50) & (a%2==0)] # data filter "
   ]
  },
  {
   "cell_type": "code",
   "execution_count": 152,
   "id": "e94fc888-aa63-4938-982b-3593e467abf4",
   "metadata": {},
   "outputs": [
    {
     "data": {
      "text/plain": [
       "array([83, 86, 75, 34, 68, 34, 43, 80,  8,  1, 17, 10, 15, 27, 81, 26, 27,\n",
       "       25, 74, 83,  1, 88])"
      ]
     },
     "execution_count": 152,
     "metadata": {},
     "output_type": "execute_result"
    }
   ],
   "source": [
    "# condition - find numbers not divisible by 7 \n",
    "a[~(a % 7==0)]"
   ]
  },
  {
   "cell_type": "markdown",
   "id": "f14c2dfd-5c0e-433b-a407-090dafbc3ad8",
   "metadata": {},
   "source": [
    "# Broadcasting "
   ]
  },
  {
   "cell_type": "code",
   "execution_count": 163,
   "id": "8de27901-8f47-4d4a-9c9c-5ae643bd8a2e",
   "metadata": {},
   "outputs": [
    {
     "name": "stdout",
     "output_type": "stream",
     "text": [
      "[[0 1 2]\n",
      " [3 4 5]]\n",
      "[[ 6  7  8]\n",
      " [ 9 10 11]]\n",
      "[[ 6  8 10]\n",
      " [12 14 16]]\n"
     ]
    }
   ],
   "source": [
    "# Same shape \n",
    "a = np.arange(6).reshape(2,3)\n",
    "b = np.arange(6,12).reshape(2,3)\n",
    "print(a)\n",
    "print(b)\n",
    "print(a+b)"
   ]
  },
  {
   "cell_type": "code",
   "execution_count": 169,
   "id": "d2119e9b-47e9-4da2-b1ba-4e871b3ff6a6",
   "metadata": {},
   "outputs": [
    {
     "name": "stdout",
     "output_type": "stream",
     "text": [
      "[[0 1 2]\n",
      " [3 4 5]]\n",
      "[[0 1 2]]\n",
      "[[0 2 4]\n",
      " [3 5 7]]\n"
     ]
    }
   ],
   "source": [
    "# Different shape \n",
    "a = np.arange(6).reshape(2,3)\n",
    "b = np.arange(3).reshape(1,3)\n",
    "print(a)\n",
    "print(b)\n",
    "print(a+b)"
   ]
  },
  {
   "cell_type": "markdown",
   "id": "f7e54da6-88b7-418d-8dbf-6a5d2136d1e0",
   "metadata": {},
   "source": [
    "Rules"
   ]
  },
  {
   "attachments": {
    "25cfefe5-2662-47cf-9e3d-00e47337f962.png": {
     "image/png": "[encoded data removed]"
    },
    "ce300a6a-e222-4102-a519-f09a3ad6a2d2.png": {
     "image/png": "[encoded data removed]"
    }
   },
   "cell_type": "markdown",
   "id": "b89c6750-31e5-4ea6-acb2-7d2263e76e00",
   "metadata": {},
   "source": [
    "![image.png](attachment:25cfefe5-2662-47cf-9e3d-00e47337f962.png)![image.png](attachment:ce300a6a-e222-4102-a519-f09a3ad6a2d2.png)"
   ]
  },
  {
   "cell_type": "markdown",
   "id": "c8d16a67-b691-491e-a97a-5566ca285fee",
   "metadata": {},
   "source": [
    "**Rule**\n",
    "1) **Make the two arrays of same dimension***\n",
    "    - We approach the dimension from the higher dimension side.\n",
    "2) **Make each dimension same**\n",
    "   - if size does not match eg : (3,3) and (1,3), then 1 ko stretched to the size of other.\n",
    "   - if the dimension who size is not 1 in either of the two arrays, it cannot be broadcast and error occor. "
   ]
  },
  {
   "cell_type": "code",
   "execution_count": 189,
   "id": "112643a0-0b4c-48e4-82f3-adcbef2e8673",
   "metadata": {},
   "outputs": [
    {
     "name": "stdout",
     "output_type": "stream",
     "text": [
      "[[ 0  1  2]\n",
      " [ 3  4  5]\n",
      " [ 6  7  8]\n",
      " [ 9 10 11]]\n",
      "[0 1 2]\n",
      "[[ 0  2  4]\n",
      " [ 3  5  7]\n",
      " [ 6  8 10]\n",
      " [ 9 11 13]]\n"
     ]
    }
   ],
   "source": [
    "a = np.arange(12).reshape(4,3)\n",
    "b= np.arange(3)\n",
    "print(a)\n",
    "print(b)\n",
    "print(a+b)"
   ]
  },
  {
   "cell_type": "code",
   "execution_count": 27,
   "id": "f4b73342-2563-4e83-9ede-6d393d5957e2",
   "metadata": {},
   "outputs": [
    {
     "ename": "ValueError",
     "evalue": "operands could not be broadcast together with shapes (3,4) (3,) ",
     "output_type": "error",
     "traceback": [
      "\u001b[1;31m---------------------------------------------------------------------------\u001b[0m",
      "\u001b[1;31mValueError\u001b[0m                                Traceback (most recent call last)",
      "Cell \u001b[1;32mIn[27], line 3\u001b[0m\n\u001b[0;32m      1\u001b[0m a \u001b[38;5;241m=\u001b[39m np\u001b[38;5;241m.\u001b[39marange(\u001b[38;5;241m12\u001b[39m)\u001b[38;5;241m.\u001b[39mreshape(\u001b[38;5;241m3\u001b[39m,\u001b[38;5;241m4\u001b[39m)\n\u001b[0;32m      2\u001b[0m b\u001b[38;5;241m=\u001b[39m np\u001b[38;5;241m.\u001b[39marange(\u001b[38;5;241m3\u001b[39m)\n\u001b[1;32m----> 3\u001b[0m \u001b[38;5;28mprint\u001b[39m(a\u001b[38;5;241m+\u001b[39mb)\n",
      "\u001b[1;31mValueError\u001b[0m: operands could not be broadcast together with shapes (3,4) (3,) "
     ]
    }
   ],
   "source": [
    "a = np.arange(12).reshape(3,4)\n",
    "b= np.arange(3)\n",
    "print(a+b)"
   ]
  },
  {
   "cell_type": "code",
   "execution_count": 29,
   "id": "514bf9db-0554-420c-ab21-f30a93bad596",
   "metadata": {},
   "outputs": [
    {
     "name": "stdout",
     "output_type": "stream",
     "text": [
      "[[0]\n",
      " [1]\n",
      " [2]]\n",
      "[[0 1 2]]\n",
      "[[0 1 2]\n",
      " [1 2 3]\n",
      " [2 3 4]]\n"
     ]
    }
   ],
   "source": [
    "a = np.arange(3).reshape(3,1)\n",
    "b= np.arange(3).reshape(1,3)\n",
    "print(a)\n",
    "print(b)\n",
    "print(a+b)"
   ]
  },
  {
   "cell_type": "code",
   "execution_count": 31,
   "id": "82da4e7e-3008-43e7-aa23-4c8a389d7331",
   "metadata": {},
   "outputs": [
    {
     "name": "stdout",
     "output_type": "stream",
     "text": [
      "[[0 1 2]]\n",
      "[[0]\n",
      " [1]\n",
      " [2]\n",
      " [3]]\n",
      "[[0 1 2]\n",
      " [1 2 3]\n",
      " [2 3 4]\n",
      " [3 4 5]]\n"
     ]
    }
   ],
   "source": [
    "a = np.arange(3).reshape(1,3)\n",
    "b= np.arange(4).reshape(4,1)\n",
    "print(a)\n",
    "print(b)\n",
    "print(a+b)"
   ]
  },
  {
   "cell_type": "code",
   "execution_count": 203,
   "id": "768225ac-87a3-4ecd-97d0-2df1ee20dfcc",
   "metadata": {},
   "outputs": [
    {
     "name": "stdout",
     "output_type": "stream",
     "text": [
      "[[0 1]\n",
      " [2 3]]\n",
      "[1]\n",
      "[[1 2]\n",
      " [3 4]]\n"
     ]
    }
   ],
   "source": [
    "a = np.arange(4).reshape(2,2)\n",
    "b= np.array([1])\n",
    "print(a)\n",
    "print(b)\n",
    "print(a+b)"
   ]
  },
  {
   "cell_type": "code",
   "execution_count": 205,
   "id": "c997fbc9-787d-4f71-9375-a1e175548a86",
   "metadata": {},
   "outputs": [
    {
     "name": "stdout",
     "output_type": "stream",
     "text": [
      "[[ 0  1  2  3]\n",
      " [ 4  5  6  7]\n",
      " [ 8  9 10 11]]\n",
      "[[ 0  1  2]\n",
      " [ 3  4  5]\n",
      " [ 6  7  8]\n",
      " [ 9 10 11]]\n"
     ]
    },
    {
     "ename": "ValueError",
     "evalue": "operands could not be broadcast together with shapes (3,4) (4,3) ",
     "output_type": "error",
     "traceback": [
      "\u001b[1;31m---------------------------------------------------------------------------\u001b[0m",
      "\u001b[1;31mValueError\u001b[0m                                Traceback (most recent call last)",
      "Cell \u001b[1;32mIn[205], line 5\u001b[0m\n\u001b[0;32m      3\u001b[0m \u001b[38;5;28mprint\u001b[39m(a)\n\u001b[0;32m      4\u001b[0m \u001b[38;5;28mprint\u001b[39m(b)\n\u001b[1;32m----> 5\u001b[0m \u001b[38;5;28mprint\u001b[39m(a\u001b[38;5;241m+\u001b[39mb)\n",
      "\u001b[1;31mValueError\u001b[0m: operands could not be broadcast together with shapes (3,4) (4,3) "
     ]
    }
   ],
   "source": [
    "a = np.arange(12).reshape(3,4)\n",
    "b= np.arange(12).reshape(4,3)\n",
    "print(a)\n",
    "print(b)\n",
    "print(a+b)"
   ]
  },
  {
   "cell_type": "code",
   "execution_count": 207,
   "id": "1edd166d-a6a7-4e2f-86a8-03ea1d011401",
   "metadata": {},
   "outputs": [
    {
     "name": "stdout",
     "output_type": "stream",
     "text": [
      "[[ 0  1  2  3]\n",
      " [ 4  5  6  7]\n",
      " [ 8  9 10 11]\n",
      " [12 13 14 15]]\n",
      "[[0 1]\n",
      " [2 3]]\n"
     ]
    },
    {
     "ename": "ValueError",
     "evalue": "operands could not be broadcast together with shapes (4,4) (2,2) ",
     "output_type": "error",
     "traceback": [
      "\u001b[1;31m---------------------------------------------------------------------------\u001b[0m",
      "\u001b[1;31mValueError\u001b[0m                                Traceback (most recent call last)",
      "Cell \u001b[1;32mIn[207], line 5\u001b[0m\n\u001b[0;32m      3\u001b[0m \u001b[38;5;28mprint\u001b[39m(a)\n\u001b[0;32m      4\u001b[0m \u001b[38;5;28mprint\u001b[39m(b)\n\u001b[1;32m----> 5\u001b[0m \u001b[38;5;28mprint\u001b[39m(a\u001b[38;5;241m+\u001b[39mb)\n",
      "\u001b[1;31mValueError\u001b[0m: operands could not be broadcast together with shapes (4,4) (2,2) "
     ]
    }
   ],
   "source": [
    "a = np.arange(16).reshape(4,4)\n",
    "b= np.arange(4).reshape(2,2)\n",
    "print(a)\n",
    "print(b)\n",
    "print(a+b)"
   ]
  },
  {
   "cell_type": "markdown",
   "id": "68bb5f3c-df8f-4b4e-94ae-4a7c83345f1a",
   "metadata": {},
   "source": [
    "# Working with mathematical Formulas "
   ]
  },
  {
   "cell_type": "code",
   "execution_count": 224,
   "id": "0473835b-3b0a-413c-b344-2c44533c71b2",
   "metadata": {},
   "outputs": [
    {
     "data": {
      "text/plain": [
       "array([ 0.        ,  0.84147098,  0.90929743,  0.14112001, -0.7568025 ,\n",
       "       -0.95892427, -0.2794155 ,  0.6569866 ,  0.98935825,  0.41211849])"
      ]
     },
     "execution_count": 224,
     "metadata": {},
     "output_type": "execute_result"
    }
   ],
   "source": [
    "a = np.arange(10)\n",
    "np.sin(a)"
   ]
  },
  {
   "attachments": {
    "1101a015-12ab-40d6-aef8-8bb26123a429.png": {
     "image/png": "[encoded data removed]"
    }
   },
   "cell_type": "markdown",
   "id": "40b8f62f-9ef4-4657-aba5-0d8dfe0e94dd",
   "metadata": {},
   "source": [
    "1) **Sigmoid - logistic regression and deep learning**\n",
    "\n",
    "![image.png](attachment:1101a015-12ab-40d6-aef8-8bb26123a429.png)"
   ]
  },
  {
   "cell_type": "code",
   "execution_count": 245,
   "id": "14f02b1f-03aa-44db-8caa-6e09740dda0f",
   "metadata": {},
   "outputs": [
    {
     "data": {
      "text/plain": [
       "array([0.5       , 0.73105858, 0.88079708, 0.95257413, 0.98201379,\n",
       "       0.99330715, 0.99752738, 0.99908895, 0.99966465, 0.99987661,\n",
       "       0.9999546 , 0.9999833 , 0.99999386, 0.99999774, 0.99999917,\n",
       "       0.99999969, 0.99999989, 0.99999996, 0.99999998, 0.99999999,\n",
       "       1.        , 1.        , 1.        , 1.        , 1.        ,\n",
       "       1.        , 1.        , 1.        , 1.        , 1.        ,\n",
       "       1.        , 1.        , 1.        , 1.        , 1.        ,\n",
       "       1.        , 1.        , 1.        , 1.        , 1.        ,\n",
       "       1.        , 1.        , 1.        , 1.        , 1.        ,\n",
       "       1.        , 1.        , 1.        , 1.        , 1.        ,\n",
       "       1.        , 1.        , 1.        , 1.        , 1.        ,\n",
       "       1.        , 1.        , 1.        , 1.        , 1.        ,\n",
       "       1.        , 1.        , 1.        , 1.        , 1.        ,\n",
       "       1.        , 1.        , 1.        , 1.        , 1.        ,\n",
       "       1.        , 1.        , 1.        , 1.        , 1.        ,\n",
       "       1.        , 1.        , 1.        , 1.        , 1.        ,\n",
       "       1.        , 1.        , 1.        , 1.        , 1.        ,\n",
       "       1.        , 1.        , 1.        , 1.        , 1.        ,\n",
       "       1.        , 1.        , 1.        , 1.        , 1.        ,\n",
       "       1.        , 1.        , 1.        , 1.        , 1.        ])"
      ]
     },
     "execution_count": 245,
     "metadata": {},
     "output_type": "execute_result"
    }
   ],
   "source": [
    "def sigmoid(array):\n",
    "    return 1/(1+ np.exp(-(array)))\n",
    "\n",
    "a = np.arange(100)\n",
    "sigmoid(a)"
   ]
  },
  {
   "attachments": {
    "4472f35b-913f-4ffb-83b2-80e2432a0910.png": {
     "image/png": "[encoded data removed]"
    }
   },
   "cell_type": "markdown",
   "id": "a9328378-0ad0-4fa4-acae-518e003003fa",
   "metadata": {},
   "source": [
    "2) **Mean square error (Loss Function)**\n",
    "\n",
    "![image.png](attachment:4472f35b-913f-4ffb-83b2-80e2432a0910.png)"
   ]
  },
  {
   "cell_type": "code",
   "execution_count": 252,
   "id": "67f7d494-9a60-4e1f-a54a-1d00142eaf58",
   "metadata": {},
   "outputs": [],
   "source": [
    "actual = np.random.randint(1,50,25)\n",
    "predicted = np.random.randint(1,50,25)"
   ]
  },
  {
   "cell_type": "code",
   "execution_count": 272,
   "id": "5d325693-e0f6-48f1-b91d-1adaf66bec93",
   "metadata": {},
   "outputs": [
    {
     "data": {
      "text/plain": [
       "array([11, 34,  6, 11,  9, 49, 48, 21, 23, 35, 15, 48, 26,  5, 49, 48, 44,\n",
       "       28, 42, 41, 45,  5, 37, 45, 14])"
      ]
     },
     "execution_count": 272,
     "metadata": {},
     "output_type": "execute_result"
    }
   ],
   "source": [
    "actual"
   ]
  },
  {
   "cell_type": "code",
   "execution_count": 270,
   "id": "a7ba5b94-684e-4ad7-9b6e-f96a69fc69fe",
   "metadata": {},
   "outputs": [
    {
     "data": {
      "text/plain": [
       "array([40,  4, 11,  2, 21, 47, 31, 41,  7, 29, 24, 33, 20,  4, 46, 31, 19,\n",
       "       10, 39, 29, 20,  8, 21, 26, 47])"
      ]
     },
     "execution_count": 270,
     "metadata": {},
     "output_type": "execute_result"
    }
   ],
   "source": [
    "predicted"
   ]
  },
  {
   "cell_type": "code",
   "execution_count": 274,
   "id": "b913d423-a595-4b76-8036-37c11938916b",
   "metadata": {},
   "outputs": [
    {
     "data": {
      "text/plain": [
       "282.36"
      ]
     },
     "execution_count": 274,
     "metadata": {},
     "output_type": "execute_result"
    }
   ],
   "source": [
    "def mse(actual,predicted):\n",
    "    return np.mean((actual-predicted)**2)\n",
    "mse(actual,predicted)"
   ]
  },
  {
   "attachments": {
    "7fcf9135-37ae-4785-9d53-5fcb111f2aa9.png": {
     "image/png": "[encoded data removed]"
    }
   },
   "cell_type": "markdown",
   "id": "bf0ac17f-eb47-4e91-be38-0f3cac201ff8",
   "metadata": {},
   "source": [
    "3) **Binary cross entropy**\n",
    "\n",
    "![image.png](attachment:7fcf9135-37ae-4785-9d53-5fcb111f2aa9.png)."
   ]
  },
  {
   "cell_type": "markdown",
   "id": "db580c1c-ccdd-4e50-abf8-f8fbf6115623",
   "metadata": {},
   "source": [
    "# Working with Missing Values "
   ]
  },
  {
   "cell_type": "code",
   "execution_count": 284,
   "id": "bd7fc01d-21dc-4fc9-8efa-e7b42db4e7c9",
   "metadata": {},
   "outputs": [
    {
     "data": {
      "text/plain": [
       "array([ 1.,  2.,  3.,  4., nan,  6.])"
      ]
     },
     "execution_count": 284,
     "metadata": {},
     "output_type": "execute_result"
    }
   ],
   "source": [
    "# Working with missing values - np.nan \n",
    "a = np.array([1,2,3,4,np.nan,6])\n",
    "a "
   ]
  },
  {
   "cell_type": "code",
   "execution_count": 296,
   "id": "4f95ccb6-6a9a-4e8f-ad83-1c4c85ca050a",
   "metadata": {},
   "outputs": [
    {
     "data": {
      "text/plain": [
       "array([1., 2., 3., 4., 6.])"
      ]
     },
     "execution_count": 296,
     "metadata": {},
     "output_type": "execute_result"
    }
   ],
   "source": [
    "np.isnan(a)\n",
    "a[np.isnan(a)] # show missing value\n",
    "a[~(np.isnan(a))] # Remove missing value"
   ]
  },
  {
   "cell_type": "markdown",
   "id": "cdef6a46-7637-4ac6-a81f-7331d7092f31",
   "metadata": {},
   "source": [
    "# Plotting Graphs "
   ]
  },
  {
   "cell_type": "code",
   "execution_count": 312,
   "id": "c8f9c615-4ff9-4251-b668-dccb646269f8",
   "metadata": {},
   "outputs": [
    {
     "data": {
      "text/plain": [
       "[<matplotlib.lines.Line2D at 0x24214c16990>]"
      ]
     },
     "execution_count": 312,
     "metadata": {},
     "output_type": "execute_result"
    },
    {
     "data": {
      "image/png": "[encoded data removed]",
      "text/plain": [
       "<Figure size 640x480 with 1 Axes>"
      ]
     },
     "metadata": {},
     "output_type": "display_data"
    }
   ],
   "source": [
    "# Plotting a 2D graphs \n",
    "# x=y\n",
    "import matplotlib.pyplot as plt\n",
    "x= np.linspace(-10,10,100)\n",
    "y=x\n",
    "plt.plot(x,y)"
   ]
  },
  {
   "cell_type": "code",
   "execution_count": 314,
   "id": "eb1950d8-da7d-4b5b-8b9a-8fef5a820b06",
   "metadata": {},
   "outputs": [
    {
     "data": {
      "text/plain": [
       "[<matplotlib.lines.Line2D at 0x24214c6cbf0>]"
      ]
     },
     "execution_count": 314,
     "metadata": {},
     "output_type": "execute_result"
    },
    {
     "data": {
      "image/png": "[encoded data removed]",
      "text/plain": [
       "<Figure size 640x480 with 1 Axes>"
      ]
     },
     "metadata": {},
     "output_type": "display_data"
    }
   ],
   "source": [
    "# y=x^2\n",
    "x=np.linspace(-10,10,100)\n",
    "y=x**2\n",
    "plt.plot(x,y)"
   ]
  },
  {
   "cell_type": "code",
   "execution_count": 316,
   "id": "1b28f280-1028-4bcb-ba8f-fe59e00ebba6",
   "metadata": {},
   "outputs": [
    {
     "data": {
      "text/plain": [
       "[<matplotlib.lines.Line2D at 0x24214ed86e0>]"
      ]
     },
     "execution_count": 316,
     "metadata": {},
     "output_type": "execute_result"
    },
    {
     "data": {
      "image/png": "[encoded data removed]",
      "text/plain": [
       "<Figure size 640x480 with 1 Axes>"
      ]
     },
     "metadata": {},
     "output_type": "display_data"
    }
   ],
   "source": [
    "# y= sin(x)\n",
    "x= np.linspace(-10,10,100)\n",
    "y = np.sin(x)\n",
    "plt.plot(x,y)"
   ]
  },
  {
   "cell_type": "code",
   "execution_count": 322,
   "id": "ed5ada51-e160-4a24-bca2-2bf5046d0439",
   "metadata": {},
   "outputs": [
    {
     "data": {
      "text/plain": [
       "[<matplotlib.lines.Line2D at 0x24215fcb7d0>]"
      ]
     },
     "execution_count": 322,
     "metadata": {},
     "output_type": "execute_result"
    },
    {
     "data": {
      "image/png": "[encoded data removed]",
      "text/plain": [
       "<Figure size 640x480 with 1 Axes>"
      ]
     },
     "metadata": {},
     "output_type": "display_data"
    }
   ],
   "source": [
    "# y = log(x)\n",
    "x= np.linspace(0.1,10,100)\n",
    "y = x*np.log(x)\n",
    "plt.plot(x,y)"
   ]
  },
  {
   "cell_type": "code",
   "execution_count": 324,
   "id": "5f040a2d-7680-4c57-a932-fefe59df5ed9",
   "metadata": {},
   "outputs": [
    {
     "data": {
      "text/plain": [
       "[<matplotlib.lines.Line2D at 0x2421602b7d0>]"
      ]
     },
     "execution_count": 324,
     "metadata": {},
     "output_type": "execute_result"
    },
    {
     "data": {
      "image/png": "[encoded data removed]",
      "text/plain": [
       "<Figure size 640x480 with 1 Axes>"
      ]
     },
     "metadata": {},
     "output_type": "display_data"
    }
   ],
   "source": [
    "# simoid \n",
    "# y = log(x)\n",
    "x= np.linspace(-10,10,100)\n",
    "y = 1/(1+np.exp(-x))\n",
    "plt.plot(x,y)"
   ]
  }
 ],
 "metadata": {
  "kernelspec": {
   "display_name": "Python 3 (ipykernel)",
   "language": "python",
   "name": "python3"
  },
  "language_info": {
   "codemirror_mode": {
    "name": "ipython",
    "version": 3
   },
   "file_extension": ".py",
   "mimetype": "text/x-python",
   "name": "python",
   "nbconvert_exporter": "python",
   "pygments_lexer": "ipython3",
   "version": "3.12.4"
  }
 },
 "nbformat": 4,
 "nbformat_minor": 5
}
