{
 "cells": [
  {
   "cell_type": "code",
   "execution_count": 2,
   "id": "41f01de5-d27b-45df-9741-328108fd85c4",
   "metadata": {},
   "outputs": [],
   "source": [
    "import numpy as np"
   ]
  },
  {
   "cell_type": "markdown",
   "id": "ebcd1d42-b557-423f-9282-d1dca0c23ddb",
   "metadata": {
    "jp-MarkdownHeadingCollapsed": true
   },
   "source": [
    "# Creating Numpy Array"
   ]
  },
  {
   "cell_type": "code",
   "execution_count": 79,
   "id": "b9050f37-59ea-4c93-90f4-9327fac9c3b1",
   "metadata": {},
   "outputs": [],
   "source": [
    "a1= np.arange(10,)\n",
    "a2= np.arange(12,dtype=float).reshape(3,4)\n",
    "a3= np.arange(8).reshape(2,2,2)"
   ]
  },
  {
   "cell_type": "code",
   "execution_count": 81,
   "id": "b3122a96-4894-41c2-a1e6-cd55cda803c3",
   "metadata": {},
   "outputs": [
    {
     "data": {
      "text/plain": [
       "1"
      ]
     },
     "execution_count": 81,
     "metadata": {},
     "output_type": "execute_result"
    }
   ],
   "source": [
    "# ndim - tells \n",
    "a1.ndim"
   ]
  },
  {
   "cell_type": "code",
   "execution_count": 83,
   "id": "9e52ef6e-3ef1-46f2-ae44-5ce2edf1421e",
   "metadata": {},
   "outputs": [
    {
     "name": "stdout",
     "output_type": "stream",
     "text": [
      "(2, 2, 2)\n"
     ]
    },
    {
     "data": {
      "text/plain": [
       "array([[[0, 1],\n",
       "        [2, 3]],\n",
       "\n",
       "       [[4, 5],\n",
       "        [6, 7]]])"
      ]
     },
     "execution_count": 83,
     "metadata": {},
     "output_type": "execute_result"
    }
   ],
   "source": [
    "# shape \n",
    "print(a3.shape)\n",
    "a3 "
   ]
  },
  {
   "cell_type": "code",
   "execution_count": 85,
   "id": "ecdc48d0-2950-4dc7-a503-0c21a1a49586",
   "metadata": {},
   "outputs": [
    {
     "data": {
      "text/plain": [
       "12"
      ]
     },
     "execution_count": 85,
     "metadata": {},
     "output_type": "execute_result"
    }
   ],
   "source": [
    "# size \n",
    "a2.size"
   ]
  },
  {
   "cell_type": "code",
   "execution_count": 87,
   "id": "b6d6b0fc-a6c9-4319-8fce-0b2d6cffcaca",
   "metadata": {},
   "outputs": [
    {
     "data": {
      "text/plain": [
       "4"
      ]
     },
     "execution_count": 87,
     "metadata": {},
     "output_type": "execute_result"
    }
   ],
   "source": [
    "# itemsize\n",
    "a1.itemsize # int32 - 4bit , int64 - 8bit"
   ]
  },
  {
   "cell_type": "code",
   "execution_count": 89,
   "id": "c217f693-b601-4dfe-82ce-ff84984063a4",
   "metadata": {},
   "outputs": [
    {
     "name": "stdout",
     "output_type": "stream",
     "text": [
      "int32\n",
      "float64\n",
      "int32\n"
     ]
    }
   ],
   "source": [
    "# dtype - tell what types of data types it is \n",
    "print(a1.dtype)\n",
    "print(a2.dtype)\n",
    "print(a3.dtype)"
   ]
  },
  {
   "cell_type": "markdown",
   "id": "5e0be6b6-4ab3-4af0-9ae7-7ea6ab15890a",
   "metadata": {
    "jp-MarkdownHeadingCollapsed": true
   },
   "source": [
    "# Changing Datatype "
   ]
  },
  {
   "cell_type": "code",
   "execution_count": 109,
   "id": "45cf6972-5af3-4b2a-a478-5284857c24c2",
   "metadata": {},
   "outputs": [
    {
     "data": {
      "text/plain": [
       "array([[[0, 1],\n",
       "        [2, 3]],\n",
       "\n",
       "       [[4, 5],\n",
       "        [6, 7]]])"
      ]
     },
     "execution_count": 109,
     "metadata": {},
     "output_type": "execute_result"
    }
   ],
   "source": [
    "# astype - \n",
    "a3.astype(np.int32)"
   ]
  },
  {
   "cell_type": "markdown",
   "id": "dd3090d0-d4c7-4e36-b66f-00502218a3d3",
   "metadata": {},
   "source": [
    "Array Operations "
   ]
  },
  {
   "cell_type": "code",
   "execution_count": 145,
   "id": "36548a9b-7ef7-40ec-b7ac-e3be22c774b9",
   "metadata": {},
   "outputs": [
    {
     "data": {
      "text/plain": [
       "array([[12, 13, 14, 15],\n",
       "       [16, 17, 18, 19],\n",
       "       [20, 21, 22, 23]])"
      ]
     },
     "execution_count": 145,
     "metadata": {},
     "output_type": "execute_result"
    }
   ],
   "source": [
    "a1 = np.arange(12).reshape(3,4)\n",
    "a2 = np.arange(12,24).reshape(3,4)\n",
    "a2"
   ]
  },
  {
   "cell_type": "code",
   "execution_count": 147,
   "id": "16356f01-500b-432a-ba0e-308f029cee7c",
   "metadata": {},
   "outputs": [
    {
     "data": {
      "text/plain": [
       "array([[24, 26, 28, 30],\n",
       "       [32, 34, 36, 38],\n",
       "       [40, 42, 44, 46]])"
      ]
     },
     "execution_count": 147,
     "metadata": {},
     "output_type": "execute_result"
    }
   ],
   "source": [
    "# Scalar Operations \n",
    "# Arithematic \n",
    "a2 + a2"
   ]
  },
  {
   "cell_type": "code",
   "execution_count": 151,
   "id": "e677fbd7-20df-4de0-a8e4-2446ae4e1af5",
   "metadata": {},
   "outputs": [
    {
     "data": {
      "text/plain": [
       "array([[False, False, False,  True],\n",
       "       [False, False, False, False],\n",
       "       [False, False, False, False]])"
      ]
     },
     "execution_count": 151,
     "metadata": {},
     "output_type": "execute_result"
    }
   ],
   "source": [
    "# Relational \n",
    "a2 == 15"
   ]
  },
  {
   "cell_type": "markdown",
   "id": "bdcd1f70-2f29-4a51-b47f-53e31f27112f",
   "metadata": {
    "jp-MarkdownHeadingCollapsed": true
   },
   "source": [
    "# Array Functions "
   ]
  },
  {
   "cell_type": "code",
   "execution_count": 217,
   "id": "4b2b18e0-c202-4ab9-a676-a5c9e823c40e",
   "metadata": {},
   "outputs": [
    {
     "data": {
      "text/plain": [
       "array([[53., 29., 83.],\n",
       "       [85.,  9., 78.],\n",
       "       [ 8., 35., 37.]])"
      ]
     },
     "execution_count": 217,
     "metadata": {},
     "output_type": "execute_result"
    }
   ],
   "source": [
    "import numpy as np \n",
    "\n",
    "# Step 1: Create a 3x3 matrix with random float values between 0 and 1\n",
    "a1 = np.random.random((3,3))\n",
    "\n",
    "# Step 2: Multiply all values by 100 to scale them\n",
    "a1 = a1 * 100\n",
    "\n",
    "# Optional: Round values if needed\n",
    "a1 = np.round(a1)\n",
    "\n",
    "a1\n"
   ]
  },
  {
   "cell_type": "code",
   "execution_count": 225,
   "id": "40e4dfb5-911b-4d6f-9b06-29d6e212d537",
   "metadata": {},
   "outputs": [
    {
     "data": {
      "text/plain": [
       "array([ 36040.,   9135., 239538.])"
      ]
     },
     "execution_count": 225,
     "metadata": {},
     "output_type": "execute_result"
    }
   ],
   "source": [
    "# max/min/sum/prod\n",
    "# 0 -> Col and 1 -> Row\n",
    "np.prod(a1,axis=0)"
   ]
  },
  {
   "cell_type": "code",
   "execution_count": 229,
   "id": "947cd47d-fd6c-430b-af97-ff7ed5a0a8fa",
   "metadata": {},
   "outputs": [
    {
     "data": {
      "text/plain": [
       "array([997.55555556, 123.55555556, 424.66666667])"
      ]
     },
     "execution_count": 229,
     "metadata": {},
     "output_type": "execute_result"
    }
   ],
   "source": [
    "# Mean/Median/Mode\n",
    "np.var(a1,axis=0)"
   ]
  },
  {
   "cell_type": "code",
   "execution_count": 231,
   "id": "c3683b14-9ef6-458d-8449-83a7f9afc407",
   "metadata": {},
   "outputs": [
    {
     "data": {
      "text/plain": [
       "array([[ 0.39592515, -0.66363388,  0.96836446],\n",
       "       [-0.17607562,  0.41211849,  0.51397846],\n",
       "       [ 0.98935825, -0.42818267, -0.64353813]])"
      ]
     },
     "execution_count": 231,
     "metadata": {},
     "output_type": "execute_result"
    }
   ],
   "source": [
    "# trignometric functions \n",
    "np.sin(a1)"
   ]
  },
  {
   "cell_type": "code",
   "execution_count": 237,
   "id": "e7c6e8f1-38f0-414d-be2f-8aee4bf33311",
   "metadata": {},
   "outputs": [
    {
     "data": {
      "text/plain": [
       "array([[114, 120, 126],\n",
       "       [378, 400, 422],\n",
       "       [642, 680, 718]])"
      ]
     },
     "execution_count": 237,
     "metadata": {},
     "output_type": "execute_result"
    }
   ],
   "source": [
    "# dot products\n",
    "a2 = np.arange(12).reshape(3,4)\n",
    "a3 = np.arange(12,24).reshape(4,3)\n",
    "np.dot(a2,a3)"
   ]
  },
  {
   "cell_type": "code",
   "execution_count": 239,
   "id": "e7ae8de0-34d6-44cd-9a5b-6779791f31a5",
   "metadata": {},
   "outputs": [
    {
     "data": {
      "text/plain": [
       "array([[3.97029191, 3.36729583, 4.41884061],\n",
       "       [4.44265126, 2.19722458, 4.35670883],\n",
       "       [2.07944154, 3.55534806, 3.61091791]])"
      ]
     },
     "execution_count": 239,
     "metadata": {},
     "output_type": "execute_result"
    }
   ],
   "source": [
    "# log and Exponents \n",
    "np.log(a1)"
   ]
  },
  {
   "cell_type": "code",
   "execution_count": 254,
   "id": "9a87725f-0625-4d23-9587-9f83ff3a68a3",
   "metadata": {},
   "outputs": [
    {
     "data": {
      "text/plain": [
       "array([[77., 99., 92.],\n",
       "       [86., 73., 68.]])"
      ]
     },
     "execution_count": 254,
     "metadata": {},
     "output_type": "execute_result"
    }
   ],
   "source": [
    "# round/floor/cell\n",
    "np.floor(np.random.random((2,3))*100)"
   ]
  },
  {
   "cell_type": "markdown",
   "id": "3dfdaf2e-ffd2-407a-b987-1c1006ec8713",
   "metadata": {
    "jp-MarkdownHeadingCollapsed": true
   },
   "source": [
    "# Indexing and slicing "
   ]
  },
  {
   "cell_type": "code",
   "execution_count": 38,
   "id": "7421ff6d-c4d3-4136-b85e-0a15ea5e8359",
   "metadata": {},
   "outputs": [
    {
     "data": {
      "text/plain": [
       "array([[ 0,  1,  2,  3],\n",
       "       [ 4,  5,  6,  7],\n",
       "       [ 8,  9, 10, 11]])"
      ]
     },
     "execution_count": 38,
     "metadata": {},
     "output_type": "execute_result"
    }
   ],
   "source": [
    "a1 = np.arange(10)\n",
    "a2 = np.arange(12).reshape(3,4)\n",
    "a3 = np.arange(8).reshape(2,2,2)\n",
    "a2"
   ]
  },
  {
   "cell_type": "code",
   "execution_count": 40,
   "id": "2cc1febf-76aa-4922-ace3-17c818667c95",
   "metadata": {},
   "outputs": [
    {
     "data": {
      "text/plain": [
       "array([0, 1, 2, 3, 4, 5, 6, 7, 8, 9])"
      ]
     },
     "execution_count": 40,
     "metadata": {},
     "output_type": "execute_result"
    }
   ],
   "source": [
    "a1"
   ]
  },
  {
   "cell_type": "code",
   "execution_count": 44,
   "id": "270ddb32-aa3e-44c4-8cda-063fd641d291",
   "metadata": {},
   "outputs": [
    {
     "data": {
      "text/plain": [
       "array([[ 0,  1,  2,  3],\n",
       "       [ 4,  5,  6,  7],\n",
       "       [ 8,  9, 10, 11]])"
      ]
     },
     "execution_count": 44,
     "metadata": {},
     "output_type": "execute_result"
    }
   ],
   "source": [
    "a2 "
   ]
  },
  {
   "cell_type": "code",
   "execution_count": 49,
   "id": "6a0245fe-8c8a-4601-bf9e-2ba82a5db977",
   "metadata": {},
   "outputs": [
    {
     "data": {
      "text/plain": [
       "4"
      ]
     },
     "execution_count": 49,
     "metadata": {},
     "output_type": "execute_result"
    }
   ],
   "source": [
    "a2[1,0]"
   ]
  },
  {
   "cell_type": "code",
   "execution_count": 51,
   "id": "89be9f05-984f-4877-8f6c-0d54300870ef",
   "metadata": {},
   "outputs": [
    {
     "data": {
      "text/plain": [
       "array([[[0, 1],\n",
       "        [2, 3]],\n",
       "\n",
       "       [[4, 5],\n",
       "        [6, 7]]])"
      ]
     },
     "execution_count": 51,
     "metadata": {},
     "output_type": "execute_result"
    }
   ],
   "source": [
    "a3"
   ]
  },
  {
   "cell_type": "code",
   "execution_count": 53,
   "id": "1dac8c1c-2a33-48f2-97fa-ec7d41de683c",
   "metadata": {},
   "outputs": [
    {
     "data": {
      "text/plain": [
       "6"
      ]
     },
     "execution_count": 53,
     "metadata": {},
     "output_type": "execute_result"
    }
   ],
   "source": [
    "a3[1,1,0]"
   ]
  },
  {
   "cell_type": "code",
   "execution_count": 55,
   "id": "378eb05a-f4ef-4706-ac1f-2eae5ea20f07",
   "metadata": {},
   "outputs": [
    {
     "name": "stdout",
     "output_type": "stream",
     "text": [
      "[0 1 2 3 4 5 6 7 8 9]\n"
     ]
    },
    {
     "data": {
      "text/plain": [
       "array([2, 3, 4])"
      ]
     },
     "execution_count": 55,
     "metadata": {},
     "output_type": "execute_result"
    }
   ],
   "source": [
    "# Slicing \n",
    "print(a1)\n",
    "a1[2:5]"
   ]
  },
  {
   "cell_type": "code",
   "execution_count": 57,
   "id": "2b8d14d7-5379-47aa-80d7-f08721440f7b",
   "metadata": {},
   "outputs": [
    {
     "name": "stdout",
     "output_type": "stream",
     "text": [
      "[[ 0  1  2  3]\n",
      " [ 4  5  6  7]\n",
      " [ 8  9 10 11]]\n"
     ]
    },
    {
     "data": {
      "text/plain": [
       "array([0, 1, 2, 3])"
      ]
     },
     "execution_count": 57,
     "metadata": {},
     "output_type": "execute_result"
    }
   ],
   "source": [
    "print(a2)\n",
    "a2[0,:]"
   ]
  },
  {
   "cell_type": "code",
   "execution_count": 59,
   "id": "8327b112-b8fc-4d96-acd8-943141f15d76",
   "metadata": {},
   "outputs": [
    {
     "data": {
      "text/plain": [
       "array([ 2,  6, 10])"
      ]
     },
     "execution_count": 59,
     "metadata": {},
     "output_type": "execute_result"
    }
   ],
   "source": [
    "a2[:,2]"
   ]
  },
  {
   "cell_type": "code",
   "execution_count": 61,
   "id": "a80fbe41-fcfe-49aa-a59e-b7ca4a454d58",
   "metadata": {},
   "outputs": [
    {
     "data": {
      "text/plain": [
       "array([[ 5,  6],\n",
       "       [ 9, 10]])"
      ]
     },
     "execution_count": 61,
     "metadata": {},
     "output_type": "execute_result"
    }
   ],
   "source": [
    "a2[1:,1:3]"
   ]
  },
  {
   "cell_type": "code",
   "execution_count": 63,
   "id": "a242bca5-6730-48aa-959c-5e235d7ef4d4",
   "metadata": {},
   "outputs": [
    {
     "data": {
      "text/plain": [
       "array([[ 1,  3],\n",
       "       [ 9, 11]])"
      ]
     },
     "execution_count": 63,
     "metadata": {},
     "output_type": "execute_result"
    }
   ],
   "source": [
    "a2[::2,1::2]"
   ]
  },
  {
   "cell_type": "code",
   "execution_count": 65,
   "id": "7fc0a081-2968-412e-a795-b4b0557522a8",
   "metadata": {},
   "outputs": [
    {
     "data": {
      "text/plain": [
       "array([4, 7])"
      ]
     },
     "execution_count": 65,
     "metadata": {},
     "output_type": "execute_result"
    }
   ],
   "source": [
    "a2[1,::3]"
   ]
  },
  {
   "cell_type": "code",
   "execution_count": 67,
   "id": "15df82fe-c673-4f9a-a301-2d84008ef5c0",
   "metadata": {},
   "outputs": [
    {
     "data": {
      "text/plain": [
       "array([[[ 0,  1,  2],\n",
       "        [ 3,  4,  5],\n",
       "        [ 6,  7,  8]],\n",
       "\n",
       "       [[ 9, 10, 11],\n",
       "        [12, 13, 14],\n",
       "        [15, 16, 17]],\n",
       "\n",
       "       [[18, 19, 20],\n",
       "        [21, 22, 23],\n",
       "        [24, 25, 26]]])"
      ]
     },
     "execution_count": 67,
     "metadata": {},
     "output_type": "execute_result"
    }
   ],
   "source": [
    "a3 = np.arange(27).reshape(3,3,3)\n",
    "a3"
   ]
  },
  {
   "cell_type": "code",
   "execution_count": 69,
   "id": "7e81f22a-b833-41c9-a139-6a3786970cb7",
   "metadata": {},
   "outputs": [
    {
     "data": {
      "text/plain": [
       "array([[ 0,  2],\n",
       "       [18, 20]])"
      ]
     },
     "execution_count": 69,
     "metadata": {},
     "output_type": "execute_result"
    }
   ],
   "source": [
    "# Second wala 2D array \n",
    "a3[1] \n",
    "# First and Second 2D array\n",
    "a3[::2] \n",
    "a3[0,1,:] \n",
    "# Second wale Middle column \n",
    "a3[1,:,1]\n",
    "#Last Elements : 22, 23, 24, 25\n",
    "a3[2,1:,1:]\n",
    "# Elements : 0,2 18 20\n",
    "a3[::2,0,::2]"
   ]
  },
  {
   "cell_type": "markdown",
   "id": "a9779919-60d5-463f-b962-6f59b03b8a32",
   "metadata": {
    "jp-MarkdownHeadingCollapsed": true
   },
   "source": [
    "# Iterating"
   ]
  },
  {
   "cell_type": "code",
   "execution_count": 82,
   "id": "fb49e8da-3e9c-4fc8-bea8-982b663943a1",
   "metadata": {},
   "outputs": [
    {
     "name": "stdout",
     "output_type": "stream",
     "text": [
      "0\n",
      "1\n",
      "2\n",
      "3\n",
      "4\n",
      "5\n",
      "6\n",
      "7\n",
      "8\n",
      "9\n"
     ]
    }
   ],
   "source": [
    "a1\n",
    "for i in a1: \n",
    "    print(i)"
   ]
  },
  {
   "cell_type": "code",
   "execution_count": 84,
   "id": "3cee0e77-7f99-41bc-9064-c724e5daea9c",
   "metadata": {},
   "outputs": [
    {
     "name": "stdout",
     "output_type": "stream",
     "text": [
      "[0 1 2 3]\n",
      "[4 5 6 7]\n",
      "[ 8  9 10 11]\n"
     ]
    }
   ],
   "source": [
    "a2\n",
    "for i in a2:\n",
    "    print(i)"
   ]
  },
  {
   "cell_type": "code",
   "execution_count": 86,
   "id": "3219fd65-d72d-4311-ad40-890585004e83",
   "metadata": {},
   "outputs": [
    {
     "name": "stdout",
     "output_type": "stream",
     "text": [
      "[[0 1 2]\n",
      " [3 4 5]\n",
      " [6 7 8]]\n",
      "[[ 9 10 11]\n",
      " [12 13 14]\n",
      " [15 16 17]]\n",
      "[[18 19 20]\n",
      " [21 22 23]\n",
      " [24 25 26]]\n"
     ]
    }
   ],
   "source": [
    "a3\n",
    "for i in a3:\n",
    "    print(i)"
   ]
  },
  {
   "cell_type": "code",
   "execution_count": 94,
   "id": "b4678fe0-d4c5-4245-a2c4-da9b63d4fef4",
   "metadata": {},
   "outputs": [
    {
     "name": "stdout",
     "output_type": "stream",
     "text": [
      "0\n",
      "1\n",
      "2\n",
      "3\n",
      "4\n",
      "5\n",
      "6\n",
      "7\n",
      "8\n",
      "9\n",
      "10\n",
      "11\n",
      "12\n",
      "13\n",
      "14\n",
      "15\n",
      "16\n",
      "17\n",
      "18\n",
      "19\n",
      "20\n",
      "21\n",
      "22\n",
      "23\n",
      "24\n",
      "25\n",
      "26\n"
     ]
    }
   ],
   "source": [
    "# Loop for each item \n",
    "for i in np.nditer(a3): # a3 ko 1D mey convert kiya aur one by one print kiya/ wrok same with n-dimension \n",
    "    print(i) "
   ]
  },
  {
   "cell_type": "markdown",
   "id": "42b3ddc6-aece-4a23-83f6-d2598c232411",
   "metadata": {
    "jp-MarkdownHeadingCollapsed": true
   },
   "source": [
    "# Reshaping "
   ]
  },
  {
   "cell_type": "code",
   "execution_count": 109,
   "id": "d92e11b3-fe25-4d3d-99a5-c8657411aaa8",
   "metadata": {},
   "outputs": [],
   "source": [
    "# when result dikjae woh temperorily hai aur when result nahi dikhe woh permanent hai - python "
   ]
  },
  {
   "cell_type": "code",
   "execution_count": 111,
   "id": "98fc91e0-e6e3-4e2b-8bc4-7e705c7aaf4a",
   "metadata": {},
   "outputs": [],
   "source": [
    "# reshape"
   ]
  },
  {
   "cell_type": "code",
   "execution_count": 113,
   "id": "dfee41c9-7820-4178-b2fe-7906d5fdced1",
   "metadata": {},
   "outputs": [
    {
     "data": {
      "text/plain": [
       "array([[ 0,  4,  8],\n",
       "       [ 1,  5,  9],\n",
       "       [ 2,  6, 10],\n",
       "       [ 3,  7, 11]])"
      ]
     },
     "execution_count": 113,
     "metadata": {},
     "output_type": "execute_result"
    }
   ],
   "source": [
    "# Transpose \n",
    "np.transpose(a2)\n",
    "a2.T # Short Form of Above "
   ]
  },
  {
   "cell_type": "code",
   "execution_count": 115,
   "id": "6f21c675-82ec-4d41-9513-ac4f30674d19",
   "metadata": {},
   "outputs": [
    {
     "data": {
      "text/plain": [
       "array([ 0,  1,  2,  3,  4,  5,  6,  7,  8,  9, 10, 11])"
      ]
     },
     "execution_count": 115,
     "metadata": {},
     "output_type": "execute_result"
    }
   ],
   "source": [
    "# ravel\n",
    "a2.ravel() # convert into 1D array "
   ]
  },
  {
   "cell_type": "markdown",
   "id": "bd71befb-a364-41cc-89a8-aeca07a78834",
   "metadata": {
    "jp-MarkdownHeadingCollapsed": true
   },
   "source": [
    "# Stacking "
   ]
  },
  {
   "cell_type": "code",
   "execution_count": 133,
   "id": "81559dd2-b6e3-41f6-9767-f70b69417e32",
   "metadata": {},
   "outputs": [
    {
     "data": {
      "text/plain": [
       "array([[12, 13, 14, 15],\n",
       "       [16, 17, 18, 19],\n",
       "       [20, 21, 22, 23]])"
      ]
     },
     "execution_count": 133,
     "metadata": {},
     "output_type": "execute_result"
    }
   ],
   "source": [
    "# horizontal splitting \n",
    "a4 = np.arange(12).reshape(3,4) # shape should be same \n",
    "a5 = np.arange(12,24).reshape(3,4)\n",
    "a5"
   ]
  },
  {
   "cell_type": "code",
   "execution_count": 135,
   "id": "e8e4d724-43cb-41de-a4d3-a5fb66275510",
   "metadata": {},
   "outputs": [
    {
     "data": {
      "text/plain": [
       "array([[ 0,  1,  2,  3, 12, 13, 14, 15,  0,  1,  2,  3, 12, 13, 14, 15],\n",
       "       [ 4,  5,  6,  7, 16, 17, 18, 19,  4,  5,  6,  7, 16, 17, 18, 19],\n",
       "       [ 8,  9, 10, 11, 20, 21, 22, 23,  8,  9, 10, 11, 20, 21, 22, 23]])"
      ]
     },
     "execution_count": 135,
     "metadata": {},
     "output_type": "execute_result"
    }
   ],
   "source": [
    "np.hstack((a4,a5,a4,a5))"
   ]
  },
  {
   "cell_type": "code",
   "execution_count": 137,
   "id": "d7ab180b-0226-4af4-86c0-af516287914a",
   "metadata": {},
   "outputs": [
    {
     "data": {
      "text/plain": [
       "array([[ 0,  1,  2,  3],\n",
       "       [ 4,  5,  6,  7],\n",
       "       [ 8,  9, 10, 11],\n",
       "       [12, 13, 14, 15],\n",
       "       [16, 17, 18, 19],\n",
       "       [20, 21, 22, 23]])"
      ]
     },
     "execution_count": 137,
     "metadata": {},
     "output_type": "execute_result"
    }
   ],
   "source": [
    "# Vertical stacking \n",
    "np.vstack((a4,a5))"
   ]
  },
  {
   "cell_type": "markdown",
   "id": "071ede06-be87-46ce-8838-4f9e4a09814e",
   "metadata": {
    "jp-MarkdownHeadingCollapsed": true
   },
   "source": [
    "# Splitting "
   ]
  },
  {
   "cell_type": "code",
   "execution_count": 145,
   "id": "f6fb2fba-85bc-4550-80d8-679d9cd2e96e",
   "metadata": {},
   "outputs": [
    {
     "data": {
      "text/plain": [
       "array([[ 0,  1,  2,  3],\n",
       "       [ 4,  5,  6,  7],\n",
       "       [ 8,  9, 10, 11]])"
      ]
     },
     "execution_count": 145,
     "metadata": {},
     "output_type": "execute_result"
    }
   ],
   "source": [
    "# horizontal splitting and divide it into two same size array \n",
    "a4"
   ]
  },
  {
   "cell_type": "code",
   "execution_count": 157,
   "id": "808bc442-3fbd-48b3-8e7b-75861bbc6ba4",
   "metadata": {},
   "outputs": [
    {
     "data": {
      "text/plain": [
       "[array([[0],\n",
       "        [4],\n",
       "        [8]]),\n",
       " array([[1],\n",
       "        [5],\n",
       "        [9]]),\n",
       " array([[ 2],\n",
       "        [ 6],\n",
       "        [10]]),\n",
       " array([[ 3],\n",
       "        [ 7],\n",
       "        [11]])]"
      ]
     },
     "execution_count": 157,
     "metadata": {},
     "output_type": "execute_result"
    }
   ],
   "source": [
    "np.hsplit(a4,4)"
   ]
  },
  {
   "cell_type": "code",
   "execution_count": 159,
   "id": "358b739a-6227-40ba-a672-07ab826a2580",
   "metadata": {},
   "outputs": [
    {
     "data": {
      "text/plain": [
       "array([[12, 13, 14, 15],\n",
       "       [16, 17, 18, 19],\n",
       "       [20, 21, 22, 23]])"
      ]
     },
     "execution_count": 159,
     "metadata": {},
     "output_type": "execute_result"
    }
   ],
   "source": [
    "# vertical splitting \n",
    "a5"
   ]
  },
  {
   "cell_type": "code",
   "execution_count": 163,
   "id": "803ca72f-20af-4dd6-9dfe-4b997c7aafb7",
   "metadata": {},
   "outputs": [
    {
     "data": {
      "text/plain": [
       "[array([[12, 13, 14, 15],\n",
       "        [16, 17, 18, 19],\n",
       "        [20, 21, 22, 23]])]"
      ]
     },
     "execution_count": 163,
     "metadata": {},
     "output_type": "execute_result"
    }
   ],
   "source": [
    "np.vsplit(a5,1)"
   ]
  }
 ],
 "metadata": {
  "kernelspec": {
   "display_name": "Python 3 (ipykernel)",
   "language": "python",
   "name": "python3"
  },
  "language_info": {
   "codemirror_mode": {
    "name": "ipython",
    "version": 3
   },
   "file_extension": ".py",
   "mimetype": "text/x-python",
   "name": "python",
   "nbconvert_exporter": "python",
   "pygments_lexer": "ipython3",
   "version": "3.12.4"
  }
 },
 "nbformat": 4,
 "nbformat_minor": 5
}
